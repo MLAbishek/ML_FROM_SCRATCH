{
 "cells": [
  {
   "cell_type": "code",
   "execution_count": 87,
   "id": "97f77faa",
   "metadata": {},
   "outputs": [],
   "source": [
    "import pandas as pd \n",
    "from linear_regression import LinearRegressionScratch\n",
    "import numpy as np\n",
    "from sklearn.preprocessing import OneHotEncoder,StandardScaler\n",
    "from sklearn.model_selection import train_test_split\n",
    "from sklearn.pipeline import Pipeline\n",
    "from sklearn.compose import ColumnTransformer\n",
    "from sklearn.model_selection import train_test_split\n",
    "from sklearn.metrics import mean_squared_error\n",
    "from sklearn.linear_model import LinearRegression\n"
   ]
  },
  {
   "cell_type": "code",
   "execution_count": 88,
   "id": "589d1086",
   "metadata": {},
   "outputs": [
    {
     "data": {
      "text/html": [
       "<div>\n",
       "<style scoped>\n",
       "    .dataframe tbody tr th:only-of-type {\n",
       "        vertical-align: middle;\n",
       "    }\n",
       "\n",
       "    .dataframe tbody tr th {\n",
       "        vertical-align: top;\n",
       "    }\n",
       "\n",
       "    .dataframe thead th {\n",
       "        text-align: right;\n",
       "    }\n",
       "</style>\n",
       "<table border=\"1\" class=\"dataframe\">\n",
       "  <thead>\n",
       "    <tr style=\"text-align: right;\">\n",
       "      <th></th>\n",
       "      <th>Number_of_Riders</th>\n",
       "      <th>Number_of_Drivers</th>\n",
       "      <th>Location_Category</th>\n",
       "      <th>Customer_Loyalty_Status</th>\n",
       "      <th>Number_of_Past_Rides</th>\n",
       "      <th>Average_Ratings</th>\n",
       "      <th>Time_of_Booking</th>\n",
       "      <th>Vehicle_Type</th>\n",
       "      <th>Expected_Ride_Duration</th>\n",
       "      <th>Historical_Cost_of_Ride</th>\n",
       "    </tr>\n",
       "  </thead>\n",
       "  <tbody>\n",
       "    <tr>\n",
       "      <th>0</th>\n",
       "      <td>90</td>\n",
       "      <td>45</td>\n",
       "      <td>Urban</td>\n",
       "      <td>Silver</td>\n",
       "      <td>13</td>\n",
       "      <td>4.47</td>\n",
       "      <td>Night</td>\n",
       "      <td>Premium</td>\n",
       "      <td>90</td>\n",
       "      <td>284.257273</td>\n",
       "    </tr>\n",
       "    <tr>\n",
       "      <th>1</th>\n",
       "      <td>58</td>\n",
       "      <td>39</td>\n",
       "      <td>Suburban</td>\n",
       "      <td>Silver</td>\n",
       "      <td>72</td>\n",
       "      <td>4.06</td>\n",
       "      <td>Evening</td>\n",
       "      <td>Economy</td>\n",
       "      <td>43</td>\n",
       "      <td>173.874753</td>\n",
       "    </tr>\n",
       "    <tr>\n",
       "      <th>2</th>\n",
       "      <td>42</td>\n",
       "      <td>31</td>\n",
       "      <td>Rural</td>\n",
       "      <td>Silver</td>\n",
       "      <td>0</td>\n",
       "      <td>3.99</td>\n",
       "      <td>Afternoon</td>\n",
       "      <td>Premium</td>\n",
       "      <td>76</td>\n",
       "      <td>329.795469</td>\n",
       "    </tr>\n",
       "    <tr>\n",
       "      <th>3</th>\n",
       "      <td>89</td>\n",
       "      <td>28</td>\n",
       "      <td>Rural</td>\n",
       "      <td>Regular</td>\n",
       "      <td>67</td>\n",
       "      <td>4.31</td>\n",
       "      <td>Afternoon</td>\n",
       "      <td>Premium</td>\n",
       "      <td>134</td>\n",
       "      <td>470.201232</td>\n",
       "    </tr>\n",
       "    <tr>\n",
       "      <th>4</th>\n",
       "      <td>78</td>\n",
       "      <td>22</td>\n",
       "      <td>Rural</td>\n",
       "      <td>Regular</td>\n",
       "      <td>74</td>\n",
       "      <td>3.77</td>\n",
       "      <td>Afternoon</td>\n",
       "      <td>Economy</td>\n",
       "      <td>149</td>\n",
       "      <td>579.681422</td>\n",
       "    </tr>\n",
       "  </tbody>\n",
       "</table>\n",
       "</div>"
      ],
      "text/plain": [
       "   Number_of_Riders  Number_of_Drivers Location_Category  \\\n",
       "0                90                 45             Urban   \n",
       "1                58                 39          Suburban   \n",
       "2                42                 31             Rural   \n",
       "3                89                 28             Rural   \n",
       "4                78                 22             Rural   \n",
       "\n",
       "  Customer_Loyalty_Status  Number_of_Past_Rides  Average_Ratings  \\\n",
       "0                  Silver                    13             4.47   \n",
       "1                  Silver                    72             4.06   \n",
       "2                  Silver                     0             3.99   \n",
       "3                 Regular                    67             4.31   \n",
       "4                 Regular                    74             3.77   \n",
       "\n",
       "  Time_of_Booking Vehicle_Type  Expected_Ride_Duration  \\\n",
       "0           Night      Premium                      90   \n",
       "1         Evening      Economy                      43   \n",
       "2       Afternoon      Premium                      76   \n",
       "3       Afternoon      Premium                     134   \n",
       "4       Afternoon      Economy                     149   \n",
       "\n",
       "   Historical_Cost_of_Ride  \n",
       "0               284.257273  \n",
       "1               173.874753  \n",
       "2               329.795469  \n",
       "3               470.201232  \n",
       "4               579.681422  "
      ]
     },
     "execution_count": 88,
     "metadata": {},
     "output_type": "execute_result"
    }
   ],
   "source": [
    "df=pd.read_csv('dynamic_pricing.csv')\n",
    "df.head()"
   ]
  },
  {
   "cell_type": "code",
   "execution_count": 89,
   "id": "433ae093",
   "metadata": {},
   "outputs": [
    {
     "name": "stdout",
     "output_type": "stream",
     "text": [
      "<class 'pandas.core.frame.DataFrame'>\n",
      "RangeIndex: 1000 entries, 0 to 999\n",
      "Data columns (total 10 columns):\n",
      " #   Column                   Non-Null Count  Dtype  \n",
      "---  ------                   --------------  -----  \n",
      " 0   Number_of_Riders         1000 non-null   int64  \n",
      " 1   Number_of_Drivers        1000 non-null   int64  \n",
      " 2   Location_Category        1000 non-null   object \n",
      " 3   Customer_Loyalty_Status  1000 non-null   object \n",
      " 4   Number_of_Past_Rides     1000 non-null   int64  \n",
      " 5   Average_Ratings          1000 non-null   float64\n",
      " 6   Time_of_Booking          1000 non-null   object \n",
      " 7   Vehicle_Type             1000 non-null   object \n",
      " 8   Expected_Ride_Duration   1000 non-null   int64  \n",
      " 9   Historical_Cost_of_Ride  1000 non-null   float64\n",
      "dtypes: float64(2), int64(4), object(4)\n",
      "memory usage: 78.3+ KB\n"
     ]
    }
   ],
   "source": [
    "df.info()"
   ]
  },
  {
   "cell_type": "code",
   "execution_count": 90,
   "id": "714f0275",
   "metadata": {},
   "outputs": [
    {
     "data": {
      "text/html": [
       "<div>\n",
       "<style scoped>\n",
       "    .dataframe tbody tr th:only-of-type {\n",
       "        vertical-align: middle;\n",
       "    }\n",
       "\n",
       "    .dataframe tbody tr th {\n",
       "        vertical-align: top;\n",
       "    }\n",
       "\n",
       "    .dataframe thead th {\n",
       "        text-align: right;\n",
       "    }\n",
       "</style>\n",
       "<table border=\"1\" class=\"dataframe\">\n",
       "  <thead>\n",
       "    <tr style=\"text-align: right;\">\n",
       "      <th></th>\n",
       "      <th>Number_of_Riders</th>\n",
       "      <th>Number_of_Drivers</th>\n",
       "      <th>Number_of_Past_Rides</th>\n",
       "      <th>Average_Ratings</th>\n",
       "      <th>Expected_Ride_Duration</th>\n",
       "      <th>Historical_Cost_of_Ride</th>\n",
       "    </tr>\n",
       "  </thead>\n",
       "  <tbody>\n",
       "    <tr>\n",
       "      <th>count</th>\n",
       "      <td>1000.000000</td>\n",
       "      <td>1000.000000</td>\n",
       "      <td>1000.000000</td>\n",
       "      <td>1000.000000</td>\n",
       "      <td>1000.00000</td>\n",
       "      <td>1000.000000</td>\n",
       "    </tr>\n",
       "    <tr>\n",
       "      <th>mean</th>\n",
       "      <td>60.372000</td>\n",
       "      <td>27.076000</td>\n",
       "      <td>50.031000</td>\n",
       "      <td>4.257220</td>\n",
       "      <td>99.58800</td>\n",
       "      <td>372.502623</td>\n",
       "    </tr>\n",
       "    <tr>\n",
       "      <th>std</th>\n",
       "      <td>23.701506</td>\n",
       "      <td>19.068346</td>\n",
       "      <td>29.313774</td>\n",
       "      <td>0.435781</td>\n",
       "      <td>49.16545</td>\n",
       "      <td>187.158756</td>\n",
       "    </tr>\n",
       "    <tr>\n",
       "      <th>min</th>\n",
       "      <td>20.000000</td>\n",
       "      <td>5.000000</td>\n",
       "      <td>0.000000</td>\n",
       "      <td>3.500000</td>\n",
       "      <td>10.00000</td>\n",
       "      <td>25.993449</td>\n",
       "    </tr>\n",
       "    <tr>\n",
       "      <th>25%</th>\n",
       "      <td>40.000000</td>\n",
       "      <td>11.000000</td>\n",
       "      <td>25.000000</td>\n",
       "      <td>3.870000</td>\n",
       "      <td>59.75000</td>\n",
       "      <td>221.365202</td>\n",
       "    </tr>\n",
       "    <tr>\n",
       "      <th>50%</th>\n",
       "      <td>60.000000</td>\n",
       "      <td>22.000000</td>\n",
       "      <td>51.000000</td>\n",
       "      <td>4.270000</td>\n",
       "      <td>102.00000</td>\n",
       "      <td>362.019426</td>\n",
       "    </tr>\n",
       "    <tr>\n",
       "      <th>75%</th>\n",
       "      <td>81.000000</td>\n",
       "      <td>38.000000</td>\n",
       "      <td>75.000000</td>\n",
       "      <td>4.632500</td>\n",
       "      <td>143.00000</td>\n",
       "      <td>510.497504</td>\n",
       "    </tr>\n",
       "    <tr>\n",
       "      <th>max</th>\n",
       "      <td>100.000000</td>\n",
       "      <td>89.000000</td>\n",
       "      <td>100.000000</td>\n",
       "      <td>5.000000</td>\n",
       "      <td>180.00000</td>\n",
       "      <td>836.116419</td>\n",
       "    </tr>\n",
       "  </tbody>\n",
       "</table>\n",
       "</div>"
      ],
      "text/plain": [
       "       Number_of_Riders  Number_of_Drivers  Number_of_Past_Rides  \\\n",
       "count       1000.000000        1000.000000           1000.000000   \n",
       "mean          60.372000          27.076000             50.031000   \n",
       "std           23.701506          19.068346             29.313774   \n",
       "min           20.000000           5.000000              0.000000   \n",
       "25%           40.000000          11.000000             25.000000   \n",
       "50%           60.000000          22.000000             51.000000   \n",
       "75%           81.000000          38.000000             75.000000   \n",
       "max          100.000000          89.000000            100.000000   \n",
       "\n",
       "       Average_Ratings  Expected_Ride_Duration  Historical_Cost_of_Ride  \n",
       "count      1000.000000              1000.00000              1000.000000  \n",
       "mean          4.257220                99.58800               372.502623  \n",
       "std           0.435781                49.16545               187.158756  \n",
       "min           3.500000                10.00000                25.993449  \n",
       "25%           3.870000                59.75000               221.365202  \n",
       "50%           4.270000               102.00000               362.019426  \n",
       "75%           4.632500               143.00000               510.497504  \n",
       "max           5.000000               180.00000               836.116419  "
      ]
     },
     "execution_count": 90,
     "metadata": {},
     "output_type": "execute_result"
    }
   ],
   "source": [
    "df.describe()"
   ]
  },
  {
   "cell_type": "code",
   "execution_count": 91,
   "id": "032bd07a",
   "metadata": {},
   "outputs": [
    {
     "name": "stdout",
     "output_type": "stream",
     "text": [
      "['Location_Category', 'Customer_Loyalty_Status', 'Time_of_Booking', 'Vehicle_Type']\n"
     ]
    }
   ],
   "source": [
    "cat_col=[c for c in df.columns if df[c].dtype=='O']\n",
    "lab_col=['Vehicle_Type']\n",
    "print(cat_col)"
   ]
  },
  {
   "cell_type": "code",
   "execution_count": 92,
   "id": "ba6816c1",
   "metadata": {},
   "outputs": [
    {
     "name": "stdout",
     "output_type": "stream",
     "text": [
      "['Number_of_Riders', 'Number_of_Drivers', 'Number_of_Past_Rides', 'Average_Ratings', 'Expected_Ride_Duration']\n"
     ]
    }
   ],
   "source": [
    "numerical_col=[c for c in df.columns if df[c].dtype!='O' and c not in ['Historical_Cost_of_Ride']]\n",
    "print(numerical_col)"
   ]
  },
  {
   "cell_type": "code",
   "execution_count": 93,
   "id": "c68e2da8",
   "metadata": {},
   "outputs": [],
   "source": [
    "categorical_transformer = ColumnTransformer(\n",
    "    transformers=[\n",
    "        ('cat',OneHotEncoder(),cat_col),\n",
    "        ('num',StandardScaler(),numerical_col)\n",
    "    ]\n",
    ")\n"
   ]
  },
  {
   "cell_type": "code",
   "execution_count": 94,
   "id": "dd01d994",
   "metadata": {},
   "outputs": [
    {
     "name": "stdout",
     "output_type": "stream",
     "text": [
      "['Number_of_Riders', 'Number_of_Drivers', 'Number_of_Past_Rides', 'Average_Ratings', 'Expected_Ride_Duration']\n"
     ]
    }
   ],
   "source": [
    "numerical_col=[c for c in df.columns if df[c].dtype!='O' and c not in ['Historical_Cost_of_Ride']]\n",
    "print(numerical_col)"
   ]
  },
  {
   "cell_type": "code",
   "execution_count": 95,
   "id": "a0cb779f",
   "metadata": {},
   "outputs": [],
   "source": [
    "lr_model=Pipeline(steps=[\n",
    "    ('preprocessor',categorical_transformer),\n",
    "    ('model',LinearRegressionScratch())\n",
    "])"
   ]
  },
  {
   "cell_type": "code",
   "execution_count": 96,
   "id": "c8b23d61",
   "metadata": {},
   "outputs": [],
   "source": [
    "sk_model=Pipeline(steps=[\n",
    "    ('preprocessor',categorical_transformer),\n",
    "    ('model',LinearRegression())\n",
    "]\n",
    ")"
   ]
  },
  {
   "cell_type": "code",
   "execution_count": 97,
   "id": "1b1e2a71",
   "metadata": {},
   "outputs": [],
   "source": [
    "x=df.drop(['Historical_Cost_of_Ride'],axis=1)\n",
    "y=df['Historical_Cost_of_Ride']"
   ]
  },
  {
   "cell_type": "code",
   "execution_count": 98,
   "id": "412d55fd",
   "metadata": {},
   "outputs": [],
   "source": [
    "x_train,x_test,y_train,y_test=train_test_split(x,y,test_size=0.2,random_state=42)"
   ]
  },
  {
   "cell_type": "code",
   "execution_count": 99,
   "id": "cd96ab97",
   "metadata": {},
   "outputs": [
    {
     "name": "stdout",
     "output_type": "stream",
     "text": [
      "(800, 9) (800,)\n",
      "(200, 9) (200,)\n"
     ]
    }
   ],
   "source": [
    "print(x_train.shape,y_train.shape)\n",
    "print(x_test.shape,y_test.shape)"
   ]
  },
  {
   "cell_type": "code",
   "execution_count": 100,
   "id": "1bc7fcb7",
   "metadata": {},
   "outputs": [],
   "source": [
    "lrmodel=lr_model.fit(x_train,y_train)\n",
    "skmodel=sk_model.fit(x_train,y_train)"
   ]
  },
  {
   "cell_type": "code",
   "execution_count": 101,
   "id": "9303b2d0",
   "metadata": {},
   "outputs": [],
   "source": [
    "y_pred_lr=lrmodel.predict(x_test)\n",
    "y_pred_sk=skmodel.predict(x_test)\n"
   ]
  },
  {
   "cell_type": "code",
   "execution_count": 102,
   "id": "f94a8747",
   "metadata": {},
   "outputs": [
    {
     "name": "stdout",
     "output_type": "stream",
     "text": [
      "Mean Squared Error: 4548.802784082683\n",
      "Mean Squared Error: 4566.354559655161\n"
     ]
    }
   ],
   "source": [
    "from sklearn.metrics import mean_squared_error\n",
    "error_lr=mean_squared_error(y_test,y_pred_lr)\n",
    "error_sk=mean_squared_error(y_test,y_pred_sk)\n",
    "print(f'Mean Squared Error: {error_lr}')\n",
    "print(f'Mean Squared Error: {error_sk}')"
   ]
  },
  {
   "cell_type": "code",
   "execution_count": 103,
   "id": "1d4f1a64",
   "metadata": {},
   "outputs": [
    {
     "name": "stdout",
     "output_type": "stream",
     "text": [
      "Help on class LinearRegressionScratch in module linear_regression:\n",
      "\n",
      "class LinearRegressionScratch(builtins.object)\n",
      " |  A simple linear regression model that uses gradient descent for optimization.\n",
      " |  weights -> The weights of the model.\n",
      " |  bias    -> The bias of the model.\n",
      " |  sample  -> The number of rows in the dataset.\n",
      " |  feature ->The number of columns in the dataset.\n",
      " |  dw      -> The gradient of the loss function with respect to the weights.\n",
      " |  db      -> The gradient of the loss function with respect to the bias.\n",
      " |  \n",
      " |  Methods defined here:\n",
      " |  \n",
      " |  __init__(self)\n",
      " |      Initialize self.  See help(type(self)) for accurate signature.\n",
      " |  \n",
      " |  fit(self, x, y, learning_rate=0.01, epochs=1500)\n",
      " |  \n",
      " |  predict(self, x)\n",
      " |  \n",
      " |  ----------------------------------------------------------------------\n",
      " |  Data descriptors defined here:\n",
      " |  \n",
      " |  __dict__\n",
      " |      dictionary for instance variables (if defined)\n",
      " |  \n",
      " |  __weakref__\n",
      " |      list of weak references to the object (if defined)\n",
      "\n"
     ]
    }
   ],
   "source": [
    "help(LinearRegressionScratch)"
   ]
  }
 ],
 "metadata": {
  "kernelspec": {
   "display_name": "base",
   "language": "python",
   "name": "python3"
  },
  "language_info": {
   "codemirror_mode": {
    "name": "ipython",
    "version": 3
   },
   "file_extension": ".py",
   "mimetype": "text/x-python",
   "name": "python",
   "nbconvert_exporter": "python",
   "pygments_lexer": "ipython3",
   "version": "3.11.5"
  }
 },
 "nbformat": 4,
 "nbformat_minor": 5
}
